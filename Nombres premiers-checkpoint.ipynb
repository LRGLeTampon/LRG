{
 "cells": [
  {
   "cell_type": "markdown",
   "metadata": {},
   "source": [
    "# Nombres Premiers"
   ]
  },
  {
   "cell_type": "markdown",
   "metadata": {},
   "source": [
    "## Critère d'arrêt"
   ]
  },
  {
   "cell_type": "code",
   "execution_count": 1,
   "metadata": {},
   "outputs": [],
   "source": [
    "from math import*\n",
    "\n",
    "def plus_petit_diviseur_premier(n):\n",
    "    r=int(floor(sqrt(n)))\n",
    "    d=2\n",
    "    while n%d!=0 and d<=r:\n",
    "        d+=1\n",
    "    if d<=r:\n",
    "        return ...\n",
    "    else :\n",
    "        return ..."
   ]
  },
  {
   "cell_type": "code",
   "execution_count": 2,
   "metadata": {},
   "outputs": [],
   "source": [
    "def liste_nb_premiers_inferieurs_ou_egaux_a_(n):\n",
    "    return [plus_petit_diviseur_premier(i) for i in range(2,n+1) if plus_petit_diviseur_premier(i)==...]"
   ]
  },
  {
   "cell_type": "code",
   "execution_count": null,
   "metadata": {},
   "outputs": [],
   "source": [
    "pip install numpy"
   ]
  },
  {
   "cell_type": "code",
   "execution_count": null,
   "metadata": {},
   "outputs": [],
   "source": [
    "pip install matplotlib"
   ]
  },
  {
   "cell_type": "code",
   "execution_count": 3,
   "metadata": {},
   "outputs": [],
   "source": [
    "def fonction_pi(n): #liste de pi(i) pour i allant de 0 à n\n",
    "    l=[0,0]\n",
    "    for i in range(2,n+1):\n",
    "        if plus_petit_diviseur_premier(i)<i:\n",
    "            l.append(l[i-1])\n",
    "        else :\n",
    "            l.append(l[i-1]+1)\n",
    "    return l\n",
    "\n",
    "def graphique_fonction_pi(n):\n",
    "    plt.scatter([i for i in range(n+1)],fonction_pi(n))\n",
    "    plt.scatter([i for i in range(2,n+1)],[i/log(i) for i in range(2,n+1)])\n",
    "    plt.show()"
   ]
  },
  {
   "cell_type": "markdown",
   "metadata": {},
   "source": [
    "## Décomposition en facteurs premiers"
   ]
  },
  {
   "cell_type": "code",
   "execution_count": null,
   "metadata": {},
   "outputs": [],
   "source": [
    "def decomposition(n):\n",
    "    l=[]\n",
    "    d=2\n",
    "    while n>1:\n",
    "        i=0\n",
    "        while n%d==0:\n",
    "            i+=...\n",
    "            n=...\n",
    "        if i>0:\n",
    "            l.append([d,i])\n",
    "        d+=1\n",
    "    return l"
   ]
  }
 ],
 "metadata": {
  "kernelspec": {
   "display_name": "Python 3",
   "language": "python",
   "name": "python3"
  },
  "language_info": {
   "codemirror_mode": {
    "name": "ipython",
    "version": 3
   },
   "file_extension": ".py",
   "mimetype": "text/x-python",
   "name": "python",
   "nbconvert_exporter": "python",
   "pygments_lexer": "ipython3",
   "version": "3.7.3"
  }
 },
 "nbformat": 4,
 "nbformat_minor": 2
}
