{
 "cells": [
  {
   "cell_type": "markdown",
   "metadata": {},
   "source": [
    "# Méthode de Monte-Carlo"
   ]
  },
  {
   "cell_type": "code",
   "execution_count": null,
   "metadata": {},
   "outputs": [],
   "source": [
    "from random import*\n",
    "from math import*\n",
    "\n",
    "def methode_monte_carlo(f,M,a,b,n):\n",
    "    N=0    # en sortie de fonction, cette\n",
    "           #variable contient le\n",
    "           #nombre de points sous la courbe\n",
    "    for i in range(n):\n",
    "        x=uniform(a,b) #nombre au hasard entre\n",
    "                       # a et b\n",
    "        y=uniform(0,M)\n",
    "        if .......... :\n",
    "            N+=1\n",
    "    return(...............)\n",
    "\n",
    "def f(x):\n",
    "    return(x**3-7*x**2+15.5*x-9.5)"
   ]
  },
  {
   "cell_type": "code",
   "execution_count": null,
   "metadata": {},
   "outputs": [],
   "source": []
  }
 ],
 "metadata": {
  "kernelspec": {
   "display_name": "Python 3",
   "language": "python",
   "name": "python3"
  }
 },
 "nbformat": 4,
 "nbformat_minor": 2
}
