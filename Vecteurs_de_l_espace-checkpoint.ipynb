{
 "cells": [
  {
   "cell_type": "markdown",
   "metadata": {},
   "source": [
    "# VECTEURS DE L'ESPACE"
   ]
  },
  {
   "cell_type": "markdown",
   "metadata": {},
   "source": [
    "## 5. Coordonnées dans un repère de l'espace"
   ]
  },
  {
   "cell_type": "markdown",
   "metadata": {},
   "source": [
    "### Algorithme 1"
   ]
  },
  {
   "cell_type": "code",
   "execution_count": null,
   "metadata": {},
   "outputs": [],
   "source": [
    "def coordonnees_vecteur_AB(A,B):\n",
    "    l=[]\n",
    "    for i in range(3):\n",
    "       ..................\n",
    "    return(l)"
   ]
  },
  {
   "cell_type": "code",
   "execution_count": null,
   "metadata": {},
   "outputs": [],
   "source": [
    ">>> A,B=[5,-5,-4],[3,-6,-5]\n",
    "\n",
    ">>> coordonnees_vecteur_AB(A,B)"
   ]
  },
  {
   "cell_type": "markdown",
   "metadata": {},
   "source": [
    "### Algorithme 2"
   ]
  },
  {
   "cell_type": "code",
   "execution_count": null,
   "metadata": {},
   "outputs": [],
   "source": [
    "def colineaires(u,v):\n",
    "    i=0\n",
    "    a=u[i]\n",
    "    while a==0:\n",
    "        i+=1\n",
    "        a=u[i]\n",
    "    x=v[i]/u[i]\n",
    "    .................\n",
    "    .................\n",
    "    .................\n",
    "    if w==v:\n",
    "        print('v=',x,'u')\n",
    "        return True\n",
    "    else :\n",
    "        print('u et v non colinéaires')\n",
    "        return False"
   ]
  },
  {
   "cell_type": "code",
   "execution_count": null,
   "metadata": {},
   "outputs": [],
   "source": [
    ">>> u,v=[5,-5,4],[-10,10,-8]\n",
    "\n",
    ">>> colineaires(u,v)"
   ]
  },
  {
   "cell_type": "code",
   "execution_count": null,
   "metadata": {},
   "outputs": [],
   "source": [
    ">>> u,v=[5,-5,4],[-10,10,8]\n",
    "\n",
    ">>> colineaires(u,v)"
   ]
  },
  {
   "cell_type": "markdown",
   "metadata": {},
   "source": [
    "### Exercice"
   ]
  },
  {
   "cell_type": "code",
   "execution_count": null,
   "metadata": {},
   "outputs": [],
   "source": [
    "def points_alignes(A,B,C):\n",
    "\n",
    "\n",
    "\n",
    "\n",
    "\n",
    "\n",
    "\n",
    "\n",
    "\n"
   ]
  },
  {
   "cell_type": "code",
   "execution_count": null,
   "metadata": {},
   "outputs": [],
   "source": [
    ">>> points_alignes([-5,-5,4],[-9,-3,0],[7,-23,20])"
   ]
  },
  {
   "cell_type": "code",
   "execution_count": null,
   "metadata": {},
   "outputs": [],
   "source": [
    ">>> points_alignes([5,-5,-4],[3,-6,-5],[9,-3,-2])"
   ]
  }
 ],
 "metadata": {
  "kernelspec": {
   "display_name": "Python 3",
   "language": "python",
   "name": "python3"
  }
 },
 "nbformat": 4,
 "nbformat_minor": 2
}
