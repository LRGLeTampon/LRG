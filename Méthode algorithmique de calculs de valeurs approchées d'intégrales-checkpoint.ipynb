{
 "cells": [
  {
   "cell_type": "markdown",
   "metadata": {},
   "source": [
    "# Méthode des rectangles\n"
   ]
  },
  {
   "cell_type": "code",
   "execution_count": 1,
   "metadata": {},
   "outputs": [],
   "source": [
    "def methode_des_rectangles(f,a,b,n):\n",
    "    x=a\n",
    "    S=0 #cette variable contient les sommes successives des aires des rectangles,\n",
    "        #en allant de la gauche vers la droite\n",
    "    l=(b-a)/n #c'est la longueur de chaque sous-intervalle de [a;b]\n",
    "    for i in range(n): #on balaie les n rectangles de la gauche vers la droite.\n",
    "        x+=l\n",
    "        S+=.............. #aire du nouveau rectangle\n",
    "    return(S)\n",
    "\n",
    "def f(x):\n",
    "    return(0.5*x**2+x+3)"
   ]
  },
  {
   "cell_type": "code",
   "execution_count": null,
   "metadata": {},
   "outputs": [],
   "source": []
  },
  {
   "cell_type": "markdown",
   "metadata": {},
   "source": [
    "# Méthode de Monte-Carlo"
   ]
  },
  {
   "cell_type": "code",
   "execution_count": null,
   "metadata": {},
   "outputs": [],
   "source": [
    "from random import*\n",
    "from math import*\n",
    "\n",
    "def methode_monte_carlo(f,M,a,b,n):\n",
    "    N=0    # en sortie de fonction, cette\n",
    "           #variable contient le\n",
    "           #nombre de points sous la courbe\n",
    "    for i in range(n):\n",
    "        x=uniform(a,b) #nombre au hasard entre\n",
    "                       # a et b\n",
    "        y=uniform(0,M)\n",
    "        if .......... :\n",
    "            N+=1\n",
    "    return(...............)\n",
    "\n",
    "def f(x):\n",
    "    return(x**3-7*x**2+15.5*x-9.5)"
   ]
  },
  {
   "cell_type": "code",
   "execution_count": null,
   "metadata": {},
   "outputs": [],
   "source": []
  }
 ],
 "metadata": {
  "kernelspec": {
   "display_name": "Python 3",
   "language": "python",
   "name": "python3"
  },
  "language_info": {
   "codemirror_mode": {
    "name": "ipython",
    "version": 3
   },
   "file_extension": ".py",
   "mimetype": "text/x-python",
   "name": "python",
   "nbconvert_exporter": "python",
   "pygments_lexer": "ipython3",
   "version": "3.7.3"
  }
 },
 "nbformat": 4,
 "nbformat_minor": 2
}
